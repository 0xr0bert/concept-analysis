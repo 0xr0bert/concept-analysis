{
 "cells": [
  {
   "cell_type": "code",
   "execution_count": 2,
   "metadata": {},
   "outputs": [],
   "source": [
    "import zstandard\n",
    "import json\n",
    "import numpy as np\n",
    "import matplotlib.pyplot as plt\n",
    "import io"
   ]
  },
  {
   "cell_type": "code",
   "execution_count": 3,
   "metadata": {},
   "outputs": [],
   "source": [
    "dctx = zstandard.ZstdDecompressor()\n",
    "with open(\"data/20220920T131500Z/output.json.zst\", \"rb\") as f:\n",
    "    stream_reader = dctx.stream_reader(f)\n",
    "    text_stream = io.TextIOWrapper(stream_reader, encoding=\"utf-8\")\n",
    "    agents = json.load(text_stream)\n"
   ]
  },
  {
   "cell_type": "code",
   "execution_count": 4,
   "metadata": {},
   "outputs": [],
   "source": [
    "with open(\"data/20220920T131500Z/behaviours.json.zst\", \"rb\") as f:\n",
    "    stream_reader = dctx.stream_reader(f)\n",
    "    text_stream = io.TextIOWrapper(stream_reader, encoding=\"utf-8\")\n",
    "    behaviours = json.load(text_stream)"
   ]
  },
  {
   "cell_type": "code",
   "execution_count": 5,
   "metadata": {},
   "outputs": [],
   "source": [
    "with open(\"data/20220920T131500Z/prs.json.zst\", \"rb\") as f:\n",
    "    stream_reader = dctx.stream_reader(f)\n",
    "    text_stream = io.TextIOWrapper(stream_reader, encoding=\"utf-8\")\n",
    "    prs = json.load(text_stream)"
   ]
  },
  {
   "cell_type": "code",
   "execution_count": 6,
   "metadata": {},
   "outputs": [],
   "source": [
    "with open(\"data/20220920T131500Z/beliefs.json.zst\", \"rb\") as f:\n",
    "    stream_reader = dctx.stream_reader(f)\n",
    "    text_stream = io.TextIOWrapper(stream_reader, encoding=\"utf-8\")\n",
    "    beliefs = json.load(text_stream)"
   ]
  },
  {
   "cell_type": "code",
   "execution_count": 7,
   "metadata": {},
   "outputs": [
    {
     "data": {
      "text/plain": [
       "(array(['98548711-2dc8-45f6-9998-c13fab43b6d4'], dtype='<U36'),\n",
       " array([500000]))"
      ]
     },
     "execution_count": 7,
     "metadata": {},
     "output_type": "execute_result"
    }
   ],
   "source": [
    "np.unique([[a[\"actions\"][str(i)] for a in agents] for i in range(1, 1001)], return_counts=True)"
   ]
  },
  {
   "cell_type": "markdown",
   "metadata": {},
   "source": [
    "Great, it just instantly tends to the max..."
   ]
  },
  {
   "cell_type": "code",
   "execution_count": 18,
   "metadata": {},
   "outputs": [
    {
     "data": {
      "text/plain": [
       "[['bffb8b8e-b150-4e12-96bc-cc58d03c636b', 0.008534631863990005],\n",
       " ['dd4ff49f-e5ef-43f1-88f6-1ea55500878e', 0.054263693936540035],\n",
       " ['01a83c07-598d-47d2-b21c-e8f2756040be', -0.4669096374063224],\n",
       " ['bd778742-fe11-406a-ae05-ef5cf5412769', 0.05991380583236003],\n",
       " ['fceeffb6-5a5a-45dc-9d12-cac7a522f767', -0.03591646044423]]"
      ]
     },
     "execution_count": 18,
     "metadata": {},
     "output_type": "execute_result"
    }
   ],
   "source": [
    "a1acts = agents[100][\"activations\"][\"1\"]\n",
    "a1acts"
   ]
  },
  {
   "cell_type": "code",
   "execution_count": 19,
   "metadata": {},
   "outputs": [
    {
     "data": {
      "text/plain": [
       "[{'name': 'Walk', 'uuid': '83908591-344f-4ff6-b018-03138f731a87'},\n",
       " {'name': 'Cycle', 'uuid': '59b954e3-da71-4ad5-91b6-b7a8a55ec84b'},\n",
       " {'name': 'PT', 'uuid': '78cfcc29-09ed-4122-bb7a-2e867bed82bc'},\n",
       " {'name': 'Drive', 'uuid': '98548711-2dc8-45f6-9998-c13fab43b6d4'}]"
      ]
     },
     "execution_count": 19,
     "metadata": {},
     "output_type": "execute_result"
    }
   ],
   "source": [
    "behaviours"
   ]
  },
  {
   "cell_type": "code",
   "execution_count": 20,
   "metadata": {},
   "outputs": [],
   "source": [
    "prs_h = {(p[\"beliefUuid\"], p[\"behaviourUuid\"]): p[\"value\"] for p in prs}"
   ]
  },
  {
   "cell_type": "code",
   "execution_count": 21,
   "metadata": {},
   "outputs": [
    {
     "name": "stdout",
     "output_type": "stream",
     "text": [
      "Walk = 0.3097096218429293\n",
      "Cycle = 0.35895635626731925\n",
      "PT = -0.41293784243375614\n",
      "Drive = 0.1047049302877575\n"
     ]
    }
   ],
   "source": [
    "for entry in behaviours:\n",
    "    v = 0\n",
    "    for act in a1acts:\n",
    "        v += act[1] * prs_h[(act[0], entry[\"uuid\"])]\n",
    "    name = entry[\"name\"]\n",
    "    print(f\"{name} = {v}\")"
   ]
  },
  {
   "cell_type": "markdown",
   "metadata": {},
   "source": []
  }
 ],
 "metadata": {
  "kernelspec": {
   "display_name": "Python 3.10.6 ('venv': venv)",
   "language": "python",
   "name": "python3"
  },
  "language_info": {
   "codemirror_mode": {
    "name": "ipython",
    "version": 3
   },
   "file_extension": ".py",
   "mimetype": "text/x-python",
   "name": "python",
   "nbconvert_exporter": "python",
   "pygments_lexer": "ipython3",
   "version": "3.10.6"
  },
  "orig_nbformat": 4,
  "vscode": {
   "interpreter": {
    "hash": "385dc0d457b8517b563d131dec793369a7852d53f253e81553910b94a231e90d"
   }
  }
 },
 "nbformat": 4,
 "nbformat_minor": 2
}
